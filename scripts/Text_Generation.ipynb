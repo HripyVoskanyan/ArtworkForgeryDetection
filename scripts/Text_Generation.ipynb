{
 "cells": [
  {
   "cell_type": "code",
   "execution_count": 104,
   "id": "c07e37fb-3103-473d-92d5-22d442e8baea",
   "metadata": {
    "tags": []
   },
   "outputs": [
    {
     "data": {
      "text/plain": [
       "{'status': 'ok', 'restart': True}"
      ]
     },
     "execution_count": 104,
     "metadata": {},
     "output_type": "execute_result"
    }
   ],
   "source": [
    "import IPython\n",
    "\n",
    "app = IPython.Application.instance()\n",
    "app.kernel.do_shutdown(True)"
   ]
  },
  {
   "cell_type": "code",
   "execution_count": 49,
   "id": "c6a08d31-4342-4fe2-b3d9-0aadbac6a457",
   "metadata": {
    "tags": []
   },
   "outputs": [],
   "source": [
    "PROJECT_ID = \"*******\"  # @param {type:\"string\"}\n",
    "LOCATION = \"us-central1\"  # @param {type:\"string\"}\n",
    "\n",
    "import vertexai\n",
    "\n",
    "vertexai.init(project=PROJECT_ID, location=LOCATION)"
   ]
  },
  {
   "cell_type": "code",
   "execution_count": 50,
   "id": "662fac5b-8c5c-4cbc-9d72-24c5e69b8bbc",
   "metadata": {
    "tags": []
   },
   "outputs": [],
   "source": [
    "import IPython.display\n",
    "from vertexai.generative_models import (\n",
    "    GenerationConfig,\n",
    "    GenerativeModel,\n",
    "    HarmBlockThreshold,\n",
    "    HarmCategory,\n",
    "    Part,\n",
    ")"
   ]
  },
  {
   "cell_type": "code",
   "execution_count": 3,
   "id": "6029903f-c31e-4323-9151-3dd8307ca185",
   "metadata": {
    "tags": []
   },
   "outputs": [
    {
     "name": "stderr",
     "output_type": "stream",
     "text": [
      "/opt/conda/lib/python3.10/site-packages/deeplake/util/check_latest_version.py:32: UserWarning: A newer version of deeplake (4.0.3) is available. It's recommended that you update to the latest version using `pip install -U deeplake`.\n",
      "  warnings.warn(\n"
     ]
    }
   ],
   "source": [
    "from google.cloud import storage\n",
    "import deeplake\n",
    "import random\n",
    "import os\n",
    "import time\n",
    "from PIL import Image as PILImage\n",
    "from IPython.display import Image"
   ]
  },
  {
   "cell_type": "code",
   "execution_count": 4,
   "id": "258fff37-c187-448a-8fc8-a684045c1793",
   "metadata": {
    "tags": []
   },
   "outputs": [],
   "source": [
    "MODEL_ID = \"gemini-1.5-flash-002\"  # @param {type:\"string\"}\n",
    "\n",
    "model = GenerativeModel(MODEL_ID)"
   ]
  },
  {
   "cell_type": "code",
   "execution_count": 5,
   "id": "8e46b9c5-84cc-438a-91c0-04650f21bbbd",
   "metadata": {
    "tags": []
   },
   "outputs": [],
   "source": [
    "def create_bucket(bucket_name):\n",
    "    \"\"\"Creates a new bucket.\"\"\"\n",
    "    # bucket_name = \"your-new-bucket-name\"\n",
    "\n",
    "    storage_client = storage.Client()\n",
    "\n",
    "    bucket = storage_client.create_bucket(bucket_name)\n",
    "\n",
    "    print(f\"Bucket {bucket.name} created\")\n",
    "\n",
    "def upload_image_to_gcs(bucket_name, source_file_name, destination_blob_name):\n",
    "    \"\"\"\n",
    "    Uploads an image file to a Google Cloud Storage bucket.\n",
    "    \n",
    "    Args:\n",
    "        bucket_name (str): The name of the bucket to upload to.\n",
    "        source_file_name (str): The local path to the image file.\n",
    "        destination_blob_name (str): The name for the image in the bucket.\n",
    "    \"\"\"\n",
    "    # Initialize a client\n",
    "    storage_client = storage.Client()\n",
    "    \n",
    "    # Get the bucket\n",
    "    bucket = storage_client.bucket(bucket_name)\n",
    "    \n",
    "    # Create a blob in the bucket\n",
    "    blob = bucket.blob(destination_blob_name)\n",
    "    \n",
    "    # Upload the file to the blob\n",
    "    blob.upload_from_filename(source_file_name)\n",
    "    \n",
    "    print(f\"File {source_file_name} uploaded to {destination_blob_name}.\")\n",
    "\n",
    "def get_public_url(bucket_name, destination_blob_name):\n",
    "    \"\"\"\n",
    "    Constructs a public URL for an image in a Google Cloud Storage bucket.\n",
    "    \n",
    "    Args:\n",
    "        bucket_name (str): The name of the bucket.\n",
    "        destination_blob_name (str): The name of the image in the bucket.\n",
    "    \n",
    "    Returns:\n",
    "        str: The public URL for the image.\n",
    "    \"\"\"\n",
    "    return f\"https://storage.googleapis.com/{bucket_name}/{destination_blob_name}\"\n"
   ]
  },
  {
   "cell_type": "code",
   "execution_count": 6,
   "id": "077d6a07-3310-4465-a74d-33bdc5bd6ee8",
   "metadata": {
    "tags": []
   },
   "outputs": [],
   "source": [
    "#create_bucket('capstone-hripsime-voskanyan')"
   ]
  },
  {
   "cell_type": "code",
   "execution_count": 7,
   "id": "fb225978-da41-4017-be6a-a3607309c152",
   "metadata": {
    "tags": []
   },
   "outputs": [],
   "source": [
    "#os.makedirs(\"wikiart_images\")"
   ]
  },
  {
   "cell_type": "code",
   "execution_count": 6,
   "id": "0f63fb2e-c2f5-4836-9105-67c9ffa6da7e",
   "metadata": {
    "tags": []
   },
   "outputs": [],
   "source": [
    "output_dir = \"wikiart_images\""
   ]
  },
  {
   "cell_type": "code",
   "execution_count": 7,
   "id": "bfe48cbc-b5fa-4b0c-8953-15bcb9b95c1f",
   "metadata": {
    "tags": []
   },
   "outputs": [],
   "source": [
    "bucket_name = \"capstone-hripsime-voskanyan\"\n",
    "prompt = f\"\"\"\n",
    "  Describe the painting with what is painted there\n",
    "\"\"\""
   ]
  },
  {
   "cell_type": "code",
   "execution_count": 8,
   "id": "063bec8c-6161-45a9-9b60-904ec8b8081d",
   "metadata": {
    "tags": []
   },
   "outputs": [
    {
     "name": "stderr",
     "output_type": "stream",
     "text": [
      "\\"
     ]
    },
    {
     "name": "stdout",
     "output_type": "stream",
     "text": [
      "Opening dataset in read-only mode as you don't have write permissions.\n"
     ]
    },
    {
     "name": "stderr",
     "output_type": "stream",
     "text": [
      "/"
     ]
    },
    {
     "name": "stdout",
     "output_type": "stream",
     "text": [
      "This dataset can be visualized in Jupyter Notebook by ds.visualize() or at https://app.activeloop.ai/activeloop/wiki-art\n",
      "\n"
     ]
    },
    {
     "name": "stderr",
     "output_type": "stream",
     "text": [
      "|"
     ]
    },
    {
     "name": "stdout",
     "output_type": "stream",
     "text": [
      "hub://activeloop/wiki-art loaded successfully.\n",
      "\n"
     ]
    },
    {
     "name": "stderr",
     "output_type": "stream",
     "text": [
      " "
     ]
    }
   ],
   "source": [
    "ds = deeplake.load(\"hub://activeloop/wiki-art\")"
   ]
  },
  {
   "cell_type": "code",
   "execution_count": 9,
   "id": "8d9e43f5-5fbe-420b-9d8d-e45cdf2f5d68",
   "metadata": {
    "tags": []
   },
   "outputs": [],
   "source": [
    "prompts = []"
   ]
  },
  {
   "cell_type": "code",
   "execution_count": 44,
   "id": "5e621d60-d5f3-4600-9247-2db422b71447",
   "metadata": {
    "tags": []
   },
   "outputs": [],
   "source": [
    "random.seed(711)"
   ]
  },
  {
   "cell_type": "code",
   "execution_count": 54,
   "id": "0d81854e-74b5-4ee3-8bec-47e3c6e979dc",
   "metadata": {
    "tags": []
   },
   "outputs": [],
   "source": [
    "random_indices = random.sample(range(len(ds)), 1)"
   ]
  },
  {
   "cell_type": "code",
   "execution_count": 55,
   "id": "c4dc8d2e-c24e-4bc2-9230-8e354bb7ad0d",
   "metadata": {
    "tags": []
   },
   "outputs": [
    {
     "name": "stdout",
     "output_type": "stream",
     "text": [
      "Image wikiart_images/72448.png saved.\n",
      "File wikiart_images/72448.png uploaded to 72448.png.\n"
     ]
    }
   ],
   "source": [
    "import os\n",
    "import time\n",
    "from PIL import Image as PILImage\n",
    "\n",
    "# Assuming other necessary imports and functions like upload_image_to_gcs, get_public_url, etc., are defined\n",
    "\n",
    "# Load the WikiArt dataset from DeepLake\n",
    "for idx in random_indices:\n",
    "    image_path = os.path.join(output_dir, f\"{idx}.png\")  # Construct full image path\n",
    "    \n",
    "    # Check if the image already exists in the output directory\n",
    "    if os.path.exists(image_path):\n",
    "        print(f\"Image {image_path} already exists. Skipping...\")\n",
    "        continue  # Skip processing this image\n",
    "\n",
    "    # Access image data\n",
    "    image = ds[idx][\"images\"].numpy()\n",
    "    image = PILImage.fromarray(image)  # Convert to PIL Image for saving\n",
    "\n",
    "    # Save the image\n",
    "    image.save(image_path)\n",
    "    print(f\"Image {image_path} saved.\")\n",
    "\n",
    "    # Upload the image to GCS and get the public URL\n",
    "    upload_image_to_gcs(bucket_name, image_path, os.path.basename(image_path))\n",
    "    public_url = get_public_url(bucket_name, os.path.basename(image_path))\n",
    "    image_file_uri = f\"gs://{public_url[31:]}\"\n",
    "    image_file = Part.from_uri(image_file_uri, mime_type=\"image/png\")\n",
    "    contents = [prompt, image_file]\n",
    "\n",
    "    # Generate content using the model\n",
    "    response = model.generate_content(contents)\n",
    "    prompts.append(response.text)\n",
    "\n",
    "    # Log the response to a file\n",
    "    with open('response_log3.txt', 'a') as f:\n",
    "        f.write(response.text + '\\n')  # Write response text to file\n",
    "        f.write('-' * 50 + '\\n')\n",
    "\n",
    "    # Pause to avoid overloading resources\n",
    "    time.sleep(30)\n"
   ]
  },
  {
   "cell_type": "code",
   "execution_count": 48,
   "id": "bc045f5c-2ce4-4c28-83e8-fde332addee6",
   "metadata": {},
   "outputs": [
    {
     "name": "stdout",
     "output_type": "stream",
     "text": [
      "File poisoned_images.zip uploaded to gs://capstone-hripsime-voskanyan/poisoned_images.zip\n"
     ]
    }
   ],
   "source": [
    "from google.cloud import storage\n",
    "import os\n",
    "\n",
    "def upload_to_gcs(bucket_name, source_file_path, destination_blob_name):\n",
    "    \"\"\"\n",
    "    Uploads a file to Google Cloud Storage.\n",
    "\n",
    "    Args:\n",
    "        bucket_name (str): The name of the GCS bucket.\n",
    "        source_file_path (str): The local path to the file to upload.\n",
    "        destination_blob_name (str): The destination name of the file in the bucket.\n",
    "    \"\"\"\n",
    "    # Initialize a GCS client\n",
    "    client = storage.Client()\n",
    "    \n",
    "    # Get the bucket\n",
    "    bucket = client.bucket(bucket_name)\n",
    "    \n",
    "    # Create a blob and upload the file\n",
    "    blob = bucket.blob(destination_blob_name)\n",
    "    blob.upload_from_filename(source_file_path)\n",
    "\n",
    "    print(f\"File {source_file_path} uploaded to gs://{bucket_name}/{destination_blob_name}\")\n",
    "\n",
    "# Example usage\n",
    "bucket_name = \"capstone-hripsime-voskanyan\"  # Replace with your bucket name\n",
    "source_file_path = \"poisoned_images.zip\"  # Replace with your .zip file path\n",
    "destination_blob_name = \"poisoned_images.zip\"  # Replace with desired file name in the bucket\n",
    "\n",
    "upload_to_gcs(bucket_name, source_file_path, destination_blob_name)\n"
   ]
  },
  {
   "cell_type": "code",
   "execution_count": null,
   "id": "9f21830b-ed9f-4d05-bcf8-9e168db2ad2f",
   "metadata": {},
   "outputs": [],
   "source": []
  }
 ],
 "metadata": {
  "environment": {
   "kernel": "python3",
   "name": "tf2-cpu.2-11.m125",
   "type": "gcloud",
   "uri": "us-docker.pkg.dev/deeplearning-platform-release/gcr.io/tf2-cpu.2-11:m125"
  },
  "kernelspec": {
   "display_name": "Python 3 (Local)",
   "language": "python",
   "name": "python3"
  },
  "language_info": {
   "codemirror_mode": {
    "name": "ipython",
    "version": 3
   },
   "file_extension": ".py",
   "mimetype": "text/x-python",
   "name": "python",
   "nbconvert_exporter": "python",
   "pygments_lexer": "ipython3",
   "version": "3.10.15"
  }
 },
 "nbformat": 4,
 "nbformat_minor": 5
}
